{
  "nbformat": 4,
  "nbformat_minor": 0,
  "metadata": {
    "colab": {
      "provenance": [],
      "authorship_tag": "ABX9TyM4mVIBb3BBSTmgVSNNS137",
      "include_colab_link": true
    },
    "kernelspec": {
      "name": "python3",
      "display_name": "Python 3"
    },
    "language_info": {
      "name": "python"
    }
  },
  "cells": [
    {
      "cell_type": "markdown",
      "metadata": {
        "id": "view-in-github",
        "colab_type": "text"
      },
      "source": [
        "<a href=\"https://colab.research.google.com/github/Sahil-717/MAAC/blob/master/PIG_LinearRegression.ipynb\" target=\"_parent\"><img src=\"https://colab.research.google.com/assets/colab-badge.svg\" alt=\"Open In Colab\"/></a>"
      ]
    },
    {
      "cell_type": "code",
      "execution_count": 107,
      "metadata": {
        "id": "F2Btq5cuS828"
      },
      "outputs": [],
      "source": [
        "import matplotlib.pyplot as plt\n",
        "import numpy as np\n",
        "import pandas as pd\n",
        "import pylab as pl\n",
        "%matplotlib inline"
      ]
    },
    {
      "cell_type": "markdown",
      "source": [
        "## Import Data\n",
        "For Importing Data 3 methods can be considered."
      ],
      "metadata": {
        "id": "SQudq5n0VGnI"
      }
    },
    {
      "cell_type": "markdown",
      "source": [
        "\n",
        "1.   The current directory: To put the data file in the current directory and using the command: data=pd.read('data.csv')\n",
        "(for importing data to colab google drive: should copy the file in the directory to the left sidebar files)\n"
      ],
      "metadata": {
        "id": "z0JYJCIpVPb2"
      }
    },
    {
      "cell_type": "code",
      "source": [
        "import os\n",
        "\n",
        "current_directory = os.getcwd()\n",
        "print(\"Current Directory:\", current_directory)"
      ],
      "metadata": {
        "colab": {
          "base_uri": "https://localhost:8080/"
        },
        "id": "asOELOVbVKXG",
        "outputId": "e5e93624-7b0f-4699-a5db-ec1058706482"
      },
      "execution_count": 108,
      "outputs": [
        {
          "output_type": "stream",
          "name": "stdout",
          "text": [
            "Current Directory: /content\n"
          ]
        }
      ]
    },
    {
      "cell_type": "markdown",
      "source": [
        "\n",
        "2.   Using the path\n",
        "data = pd.read_csv('/path/to/your/file/data.csv')  "
      ],
      "metadata": {
        "id": "WfdcaTMAWZ-O"
      }
    },
    {
      "cell_type": "code",
      "source": [
        "data = pd.read_csv('Pipline3_I.csv', delimiter = \",\")\n",
        "data.head()"
      ],
      "metadata": {
        "colab": {
          "base_uri": "https://localhost:8080/",
          "height": 206
        },
        "id": "Ux3wZunQ3prz",
        "outputId": "bda15c01-65ca-4ab3-e342-eb99b04e0d52"
      },
      "execution_count": 109,
      "outputs": [
        {
          "output_type": "execute_result",
          "data": {
            "text/plain": [
              "   N  Joint Number  Distance                              FeaturDescription  \\\n",
              "0  1          1490  1646.439  Metal Loss Corrosion Circumferential Grooving   \n",
              "1  2          1600  1767.843                   Metal Loss Corrosion General   \n",
              "2  3          1600  1779.479                   Metal Loss Corrosion General   \n",
              "3  4          1610  1779.900  Metal Loss Corrosion Circumferential Grooving   \n",
              "4  5          1630  1815.281  Metal Loss Corrosion Circumferential Grooving   \n",
              "\n",
              "     WT  Depth  Length  Width Orientation  \n",
              "0  12.7     33      29    196        5:36  \n",
              "1  12.7     46      40     90        4:32  \n",
              "2  12.7     40      40    140        7:30  \n",
              "3  12.7     30      37    512        5:02  \n",
              "4  12.7     32      28     65        3:40  "
            ],
            "text/html": [
              "\n",
              "  <div id=\"df-1225ffd7-5b13-4470-924b-a9c1228f63ed\" class=\"colab-df-container\">\n",
              "    <div>\n",
              "<style scoped>\n",
              "    .dataframe tbody tr th:only-of-type {\n",
              "        vertical-align: middle;\n",
              "    }\n",
              "\n",
              "    .dataframe tbody tr th {\n",
              "        vertical-align: top;\n",
              "    }\n",
              "\n",
              "    .dataframe thead th {\n",
              "        text-align: right;\n",
              "    }\n",
              "</style>\n",
              "<table border=\"1\" class=\"dataframe\">\n",
              "  <thead>\n",
              "    <tr style=\"text-align: right;\">\n",
              "      <th></th>\n",
              "      <th>N</th>\n",
              "      <th>Joint Number</th>\n",
              "      <th>Distance</th>\n",
              "      <th>FeaturDescription</th>\n",
              "      <th>WT</th>\n",
              "      <th>Depth</th>\n",
              "      <th>Length</th>\n",
              "      <th>Width</th>\n",
              "      <th>Orientation</th>\n",
              "    </tr>\n",
              "  </thead>\n",
              "  <tbody>\n",
              "    <tr>\n",
              "      <th>0</th>\n",
              "      <td>1</td>\n",
              "      <td>1490</td>\n",
              "      <td>1646.439</td>\n",
              "      <td>Metal Loss Corrosion Circumferential Grooving</td>\n",
              "      <td>12.7</td>\n",
              "      <td>33</td>\n",
              "      <td>29</td>\n",
              "      <td>196</td>\n",
              "      <td>5:36</td>\n",
              "    </tr>\n",
              "    <tr>\n",
              "      <th>1</th>\n",
              "      <td>2</td>\n",
              "      <td>1600</td>\n",
              "      <td>1767.843</td>\n",
              "      <td>Metal Loss Corrosion General</td>\n",
              "      <td>12.7</td>\n",
              "      <td>46</td>\n",
              "      <td>40</td>\n",
              "      <td>90</td>\n",
              "      <td>4:32</td>\n",
              "    </tr>\n",
              "    <tr>\n",
              "      <th>2</th>\n",
              "      <td>3</td>\n",
              "      <td>1600</td>\n",
              "      <td>1779.479</td>\n",
              "      <td>Metal Loss Corrosion General</td>\n",
              "      <td>12.7</td>\n",
              "      <td>40</td>\n",
              "      <td>40</td>\n",
              "      <td>140</td>\n",
              "      <td>7:30</td>\n",
              "    </tr>\n",
              "    <tr>\n",
              "      <th>3</th>\n",
              "      <td>4</td>\n",
              "      <td>1610</td>\n",
              "      <td>1779.900</td>\n",
              "      <td>Metal Loss Corrosion Circumferential Grooving</td>\n",
              "      <td>12.7</td>\n",
              "      <td>30</td>\n",
              "      <td>37</td>\n",
              "      <td>512</td>\n",
              "      <td>5:02</td>\n",
              "    </tr>\n",
              "    <tr>\n",
              "      <th>4</th>\n",
              "      <td>5</td>\n",
              "      <td>1630</td>\n",
              "      <td>1815.281</td>\n",
              "      <td>Metal Loss Corrosion Circumferential Grooving</td>\n",
              "      <td>12.7</td>\n",
              "      <td>32</td>\n",
              "      <td>28</td>\n",
              "      <td>65</td>\n",
              "      <td>3:40</td>\n",
              "    </tr>\n",
              "  </tbody>\n",
              "</table>\n",
              "</div>\n",
              "    <div class=\"colab-df-buttons\">\n",
              "\n",
              "  <div class=\"colab-df-container\">\n",
              "    <button class=\"colab-df-convert\" onclick=\"convertToInteractive('df-1225ffd7-5b13-4470-924b-a9c1228f63ed')\"\n",
              "            title=\"Convert this dataframe to an interactive table.\"\n",
              "            style=\"display:none;\">\n",
              "\n",
              "  <svg xmlns=\"http://www.w3.org/2000/svg\" height=\"24px\" viewBox=\"0 -960 960 960\">\n",
              "    <path d=\"M120-120v-720h720v720H120Zm60-500h600v-160H180v160Zm220 220h160v-160H400v160Zm0 220h160v-160H400v160ZM180-400h160v-160H180v160Zm440 0h160v-160H620v160ZM180-180h160v-160H180v160Zm440 0h160v-160H620v160Z\"/>\n",
              "  </svg>\n",
              "    </button>\n",
              "\n",
              "  <style>\n",
              "    .colab-df-container {\n",
              "      display:flex;\n",
              "      gap: 12px;\n",
              "    }\n",
              "\n",
              "    .colab-df-convert {\n",
              "      background-color: #E8F0FE;\n",
              "      border: none;\n",
              "      border-radius: 50%;\n",
              "      cursor: pointer;\n",
              "      display: none;\n",
              "      fill: #1967D2;\n",
              "      height: 32px;\n",
              "      padding: 0 0 0 0;\n",
              "      width: 32px;\n",
              "    }\n",
              "\n",
              "    .colab-df-convert:hover {\n",
              "      background-color: #E2EBFA;\n",
              "      box-shadow: 0px 1px 2px rgba(60, 64, 67, 0.3), 0px 1px 3px 1px rgba(60, 64, 67, 0.15);\n",
              "      fill: #174EA6;\n",
              "    }\n",
              "\n",
              "    .colab-df-buttons div {\n",
              "      margin-bottom: 4px;\n",
              "    }\n",
              "\n",
              "    [theme=dark] .colab-df-convert {\n",
              "      background-color: #3B4455;\n",
              "      fill: #D2E3FC;\n",
              "    }\n",
              "\n",
              "    [theme=dark] .colab-df-convert:hover {\n",
              "      background-color: #434B5C;\n",
              "      box-shadow: 0px 1px 3px 1px rgba(0, 0, 0, 0.15);\n",
              "      filter: drop-shadow(0px 1px 2px rgba(0, 0, 0, 0.3));\n",
              "      fill: #FFFFFF;\n",
              "    }\n",
              "  </style>\n",
              "\n",
              "    <script>\n",
              "      const buttonEl =\n",
              "        document.querySelector('#df-1225ffd7-5b13-4470-924b-a9c1228f63ed button.colab-df-convert');\n",
              "      buttonEl.style.display =\n",
              "        google.colab.kernel.accessAllowed ? 'block' : 'none';\n",
              "\n",
              "      async function convertToInteractive(key) {\n",
              "        const element = document.querySelector('#df-1225ffd7-5b13-4470-924b-a9c1228f63ed');\n",
              "        const dataTable =\n",
              "          await google.colab.kernel.invokeFunction('convertToInteractive',\n",
              "                                                    [key], {});\n",
              "        if (!dataTable) return;\n",
              "\n",
              "        const docLinkHtml = 'Like what you see? Visit the ' +\n",
              "          '<a target=\"_blank\" href=https://colab.research.google.com/notebooks/data_table.ipynb>data table notebook</a>'\n",
              "          + ' to learn more about interactive tables.';\n",
              "        element.innerHTML = '';\n",
              "        dataTable['output_type'] = 'display_data';\n",
              "        await google.colab.output.renderOutput(dataTable, element);\n",
              "        const docLink = document.createElement('div');\n",
              "        docLink.innerHTML = docLinkHtml;\n",
              "        element.appendChild(docLink);\n",
              "      }\n",
              "    </script>\n",
              "  </div>\n",
              "\n",
              "\n",
              "<div id=\"df-86d575b8-b8a0-4135-943b-2d1899072a0d\">\n",
              "  <button class=\"colab-df-quickchart\" onclick=\"quickchart('df-86d575b8-b8a0-4135-943b-2d1899072a0d')\"\n",
              "            title=\"Suggest charts\"\n",
              "            style=\"display:none;\">\n",
              "\n",
              "<svg xmlns=\"http://www.w3.org/2000/svg\" height=\"24px\"viewBox=\"0 0 24 24\"\n",
              "     width=\"24px\">\n",
              "    <g>\n",
              "        <path d=\"M19 3H5c-1.1 0-2 .9-2 2v14c0 1.1.9 2 2 2h14c1.1 0 2-.9 2-2V5c0-1.1-.9-2-2-2zM9 17H7v-7h2v7zm4 0h-2V7h2v10zm4 0h-2v-4h2v4z\"/>\n",
              "    </g>\n",
              "</svg>\n",
              "  </button>\n",
              "\n",
              "<style>\n",
              "  .colab-df-quickchart {\n",
              "      --bg-color: #E8F0FE;\n",
              "      --fill-color: #1967D2;\n",
              "      --hover-bg-color: #E2EBFA;\n",
              "      --hover-fill-color: #174EA6;\n",
              "      --disabled-fill-color: #AAA;\n",
              "      --disabled-bg-color: #DDD;\n",
              "  }\n",
              "\n",
              "  [theme=dark] .colab-df-quickchart {\n",
              "      --bg-color: #3B4455;\n",
              "      --fill-color: #D2E3FC;\n",
              "      --hover-bg-color: #434B5C;\n",
              "      --hover-fill-color: #FFFFFF;\n",
              "      --disabled-bg-color: #3B4455;\n",
              "      --disabled-fill-color: #666;\n",
              "  }\n",
              "\n",
              "  .colab-df-quickchart {\n",
              "    background-color: var(--bg-color);\n",
              "    border: none;\n",
              "    border-radius: 50%;\n",
              "    cursor: pointer;\n",
              "    display: none;\n",
              "    fill: var(--fill-color);\n",
              "    height: 32px;\n",
              "    padding: 0;\n",
              "    width: 32px;\n",
              "  }\n",
              "\n",
              "  .colab-df-quickchart:hover {\n",
              "    background-color: var(--hover-bg-color);\n",
              "    box-shadow: 0 1px 2px rgba(60, 64, 67, 0.3), 0 1px 3px 1px rgba(60, 64, 67, 0.15);\n",
              "    fill: var(--button-hover-fill-color);\n",
              "  }\n",
              "\n",
              "  .colab-df-quickchart-complete:disabled,\n",
              "  .colab-df-quickchart-complete:disabled:hover {\n",
              "    background-color: var(--disabled-bg-color);\n",
              "    fill: var(--disabled-fill-color);\n",
              "    box-shadow: none;\n",
              "  }\n",
              "\n",
              "  .colab-df-spinner {\n",
              "    border: 2px solid var(--fill-color);\n",
              "    border-color: transparent;\n",
              "    border-bottom-color: var(--fill-color);\n",
              "    animation:\n",
              "      spin 1s steps(1) infinite;\n",
              "  }\n",
              "\n",
              "  @keyframes spin {\n",
              "    0% {\n",
              "      border-color: transparent;\n",
              "      border-bottom-color: var(--fill-color);\n",
              "      border-left-color: var(--fill-color);\n",
              "    }\n",
              "    20% {\n",
              "      border-color: transparent;\n",
              "      border-left-color: var(--fill-color);\n",
              "      border-top-color: var(--fill-color);\n",
              "    }\n",
              "    30% {\n",
              "      border-color: transparent;\n",
              "      border-left-color: var(--fill-color);\n",
              "      border-top-color: var(--fill-color);\n",
              "      border-right-color: var(--fill-color);\n",
              "    }\n",
              "    40% {\n",
              "      border-color: transparent;\n",
              "      border-right-color: var(--fill-color);\n",
              "      border-top-color: var(--fill-color);\n",
              "    }\n",
              "    60% {\n",
              "      border-color: transparent;\n",
              "      border-right-color: var(--fill-color);\n",
              "    }\n",
              "    80% {\n",
              "      border-color: transparent;\n",
              "      border-right-color: var(--fill-color);\n",
              "      border-bottom-color: var(--fill-color);\n",
              "    }\n",
              "    90% {\n",
              "      border-color: transparent;\n",
              "      border-bottom-color: var(--fill-color);\n",
              "    }\n",
              "  }\n",
              "</style>\n",
              "\n",
              "  <script>\n",
              "    async function quickchart(key) {\n",
              "      const quickchartButtonEl =\n",
              "        document.querySelector('#' + key + ' button');\n",
              "      quickchartButtonEl.disabled = true;  // To prevent multiple clicks.\n",
              "      quickchartButtonEl.classList.add('colab-df-spinner');\n",
              "      try {\n",
              "        const charts = await google.colab.kernel.invokeFunction(\n",
              "            'suggestCharts', [key], {});\n",
              "      } catch (error) {\n",
              "        console.error('Error during call to suggestCharts:', error);\n",
              "      }\n",
              "      quickchartButtonEl.classList.remove('colab-df-spinner');\n",
              "      quickchartButtonEl.classList.add('colab-df-quickchart-complete');\n",
              "    }\n",
              "    (() => {\n",
              "      let quickchartButtonEl =\n",
              "        document.querySelector('#df-86d575b8-b8a0-4135-943b-2d1899072a0d button');\n",
              "      quickchartButtonEl.style.display =\n",
              "        google.colab.kernel.accessAllowed ? 'block' : 'none';\n",
              "    })();\n",
              "  </script>\n",
              "</div>\n",
              "\n",
              "    </div>\n",
              "  </div>\n"
            ],
            "application/vnd.google.colaboratory.intrinsic+json": {
              "type": "dataframe",
              "variable_name": "data",
              "summary": "{\n  \"name\": \"data\",\n  \"rows\": 23,\n  \"fields\": [\n    {\n      \"column\": \"N\",\n      \"properties\": {\n        \"dtype\": \"number\",\n        \"std\": 6,\n        \"min\": 1,\n        \"max\": 23,\n        \"num_unique_values\": 23,\n        \"samples\": [\n          16,\n          10,\n          1\n        ],\n        \"semantic_type\": \"\",\n        \"description\": \"\"\n      }\n    },\n    {\n      \"column\": \"Joint Number\",\n      \"properties\": {\n        \"dtype\": \"number\",\n        \"std\": 14245,\n        \"min\": 1490,\n        \"max\": 36850,\n        \"num_unique_values\": 19,\n        \"samples\": [\n          1490,\n          1660,\n          2940\n        ],\n        \"semantic_type\": \"\",\n        \"description\": \"\"\n      }\n    },\n    {\n      \"column\": \"Distance\",\n      \"properties\": {\n        \"dtype\": \"number\",\n        \"std\": 17064.33929181971,\n        \"min\": 1646.439,\n        \"max\": 43972.652,\n        \"num_unique_values\": 23,\n        \"samples\": [\n          3887.427,\n          1921.818,\n          1646.439\n        ],\n        \"semantic_type\": \"\",\n        \"description\": \"\"\n      }\n    },\n    {\n      \"column\": \"FeaturDescription\",\n      \"properties\": {\n        \"dtype\": \"category\",\n        \"num_unique_values\": 3,\n        \"samples\": [\n          \"Metal Loss Corrosion Circumferential Grooving\",\n          \"Metal Loss Corrosion General\",\n          \"Metal Loss Corrosion Pitting\"\n        ],\n        \"semantic_type\": \"\",\n        \"description\": \"\"\n      }\n    },\n    {\n      \"column\": \"WT\",\n      \"properties\": {\n        \"dtype\": \"number\",\n        \"std\": 3.632559910795017e-15,\n        \"min\": 12.7,\n        \"max\": 12.7,\n        \"num_unique_values\": 1,\n        \"samples\": [\n          12.7\n        ],\n        \"semantic_type\": \"\",\n        \"description\": \"\"\n      }\n    },\n    {\n      \"column\": \"Depth\",\n      \"properties\": {\n        \"dtype\": \"number\",\n        \"std\": 4,\n        \"min\": 30,\n        \"max\": 46,\n        \"num_unique_values\": 13,\n        \"samples\": [\n          44\n        ],\n        \"semantic_type\": \"\",\n        \"description\": \"\"\n      }\n    },\n    {\n      \"column\": \"Length\",\n      \"properties\": {\n        \"dtype\": \"number\",\n        \"std\": 19,\n        \"min\": 18,\n        \"max\": 86,\n        \"num_unique_values\": 18,\n        \"samples\": [\n          29\n        ],\n        \"semantic_type\": \"\",\n        \"description\": \"\"\n      }\n    },\n    {\n      \"column\": \"Width\",\n      \"properties\": {\n        \"dtype\": \"number\",\n        \"std\": 478,\n        \"min\": 30,\n        \"max\": 2349,\n        \"num_unique_values\": 22,\n        \"samples\": [\n          196\n        ],\n        \"semantic_type\": \"\",\n        \"description\": \"\"\n      }\n    },\n    {\n      \"column\": \"Orientation\",\n      \"properties\": {\n        \"dtype\": \"object\",\n        \"num_unique_values\": 21,\n        \"samples\": [\n          \"5:36\"\n        ],\n        \"semantic_type\": \"\",\n        \"description\": \"\"\n      }\n    }\n  ]\n}"
            }
          },
          "metadata": {},
          "execution_count": 109
        }
      ]
    },
    {
      "cell_type": "code",
      "source": [
        "data.shape"
      ],
      "metadata": {
        "colab": {
          "base_uri": "https://localhost:8080/"
        },
        "id": "_MKcgisHetWm",
        "outputId": "76bcce93-7564-4032-f691-1ce2d34bd6a1"
      },
      "execution_count": 110,
      "outputs": [
        {
          "output_type": "execute_result",
          "data": {
            "text/plain": [
              "(23, 9)"
            ]
          },
          "metadata": {},
          "execution_count": 110
        }
      ]
    },
    {
      "cell_type": "code",
      "source": [
        "cdf = data[['Depth' , 'Length', 'Width', 'Orientation', 'FeaturDescription']]\n",
        "cdf.head()"
      ],
      "metadata": {
        "id": "GvGxGFTFFAC4",
        "colab": {
          "base_uri": "https://localhost:8080/",
          "height": 206
        },
        "outputId": "fb54395e-7976-4d0d-b9a7-be97a62258ce"
      },
      "execution_count": 111,
      "outputs": [
        {
          "output_type": "execute_result",
          "data": {
            "text/plain": [
              "   Depth  Length  Width Orientation  \\\n",
              "0     33      29    196        5:36   \n",
              "1     46      40     90        4:32   \n",
              "2     40      40    140        7:30   \n",
              "3     30      37    512        5:02   \n",
              "4     32      28     65        3:40   \n",
              "\n",
              "                               FeaturDescription  \n",
              "0  Metal Loss Corrosion Circumferential Grooving  \n",
              "1                   Metal Loss Corrosion General  \n",
              "2                   Metal Loss Corrosion General  \n",
              "3  Metal Loss Corrosion Circumferential Grooving  \n",
              "4  Metal Loss Corrosion Circumferential Grooving  "
            ],
            "text/html": [
              "\n",
              "  <div id=\"df-0d60fd91-2ad0-48fc-afd8-5004ce8074fe\" class=\"colab-df-container\">\n",
              "    <div>\n",
              "<style scoped>\n",
              "    .dataframe tbody tr th:only-of-type {\n",
              "        vertical-align: middle;\n",
              "    }\n",
              "\n",
              "    .dataframe tbody tr th {\n",
              "        vertical-align: top;\n",
              "    }\n",
              "\n",
              "    .dataframe thead th {\n",
              "        text-align: right;\n",
              "    }\n",
              "</style>\n",
              "<table border=\"1\" class=\"dataframe\">\n",
              "  <thead>\n",
              "    <tr style=\"text-align: right;\">\n",
              "      <th></th>\n",
              "      <th>Depth</th>\n",
              "      <th>Length</th>\n",
              "      <th>Width</th>\n",
              "      <th>Orientation</th>\n",
              "      <th>FeaturDescription</th>\n",
              "    </tr>\n",
              "  </thead>\n",
              "  <tbody>\n",
              "    <tr>\n",
              "      <th>0</th>\n",
              "      <td>33</td>\n",
              "      <td>29</td>\n",
              "      <td>196</td>\n",
              "      <td>5:36</td>\n",
              "      <td>Metal Loss Corrosion Circumferential Grooving</td>\n",
              "    </tr>\n",
              "    <tr>\n",
              "      <th>1</th>\n",
              "      <td>46</td>\n",
              "      <td>40</td>\n",
              "      <td>90</td>\n",
              "      <td>4:32</td>\n",
              "      <td>Metal Loss Corrosion General</td>\n",
              "    </tr>\n",
              "    <tr>\n",
              "      <th>2</th>\n",
              "      <td>40</td>\n",
              "      <td>40</td>\n",
              "      <td>140</td>\n",
              "      <td>7:30</td>\n",
              "      <td>Metal Loss Corrosion General</td>\n",
              "    </tr>\n",
              "    <tr>\n",
              "      <th>3</th>\n",
              "      <td>30</td>\n",
              "      <td>37</td>\n",
              "      <td>512</td>\n",
              "      <td>5:02</td>\n",
              "      <td>Metal Loss Corrosion Circumferential Grooving</td>\n",
              "    </tr>\n",
              "    <tr>\n",
              "      <th>4</th>\n",
              "      <td>32</td>\n",
              "      <td>28</td>\n",
              "      <td>65</td>\n",
              "      <td>3:40</td>\n",
              "      <td>Metal Loss Corrosion Circumferential Grooving</td>\n",
              "    </tr>\n",
              "  </tbody>\n",
              "</table>\n",
              "</div>\n",
              "    <div class=\"colab-df-buttons\">\n",
              "\n",
              "  <div class=\"colab-df-container\">\n",
              "    <button class=\"colab-df-convert\" onclick=\"convertToInteractive('df-0d60fd91-2ad0-48fc-afd8-5004ce8074fe')\"\n",
              "            title=\"Convert this dataframe to an interactive table.\"\n",
              "            style=\"display:none;\">\n",
              "\n",
              "  <svg xmlns=\"http://www.w3.org/2000/svg\" height=\"24px\" viewBox=\"0 -960 960 960\">\n",
              "    <path d=\"M120-120v-720h720v720H120Zm60-500h600v-160H180v160Zm220 220h160v-160H400v160Zm0 220h160v-160H400v160ZM180-400h160v-160H180v160Zm440 0h160v-160H620v160ZM180-180h160v-160H180v160Zm440 0h160v-160H620v160Z\"/>\n",
              "  </svg>\n",
              "    </button>\n",
              "\n",
              "  <style>\n",
              "    .colab-df-container {\n",
              "      display:flex;\n",
              "      gap: 12px;\n",
              "    }\n",
              "\n",
              "    .colab-df-convert {\n",
              "      background-color: #E8F0FE;\n",
              "      border: none;\n",
              "      border-radius: 50%;\n",
              "      cursor: pointer;\n",
              "      display: none;\n",
              "      fill: #1967D2;\n",
              "      height: 32px;\n",
              "      padding: 0 0 0 0;\n",
              "      width: 32px;\n",
              "    }\n",
              "\n",
              "    .colab-df-convert:hover {\n",
              "      background-color: #E2EBFA;\n",
              "      box-shadow: 0px 1px 2px rgba(60, 64, 67, 0.3), 0px 1px 3px 1px rgba(60, 64, 67, 0.15);\n",
              "      fill: #174EA6;\n",
              "    }\n",
              "\n",
              "    .colab-df-buttons div {\n",
              "      margin-bottom: 4px;\n",
              "    }\n",
              "\n",
              "    [theme=dark] .colab-df-convert {\n",
              "      background-color: #3B4455;\n",
              "      fill: #D2E3FC;\n",
              "    }\n",
              "\n",
              "    [theme=dark] .colab-df-convert:hover {\n",
              "      background-color: #434B5C;\n",
              "      box-shadow: 0px 1px 3px 1px rgba(0, 0, 0, 0.15);\n",
              "      filter: drop-shadow(0px 1px 2px rgba(0, 0, 0, 0.3));\n",
              "      fill: #FFFFFF;\n",
              "    }\n",
              "  </style>\n",
              "\n",
              "    <script>\n",
              "      const buttonEl =\n",
              "        document.querySelector('#df-0d60fd91-2ad0-48fc-afd8-5004ce8074fe button.colab-df-convert');\n",
              "      buttonEl.style.display =\n",
              "        google.colab.kernel.accessAllowed ? 'block' : 'none';\n",
              "\n",
              "      async function convertToInteractive(key) {\n",
              "        const element = document.querySelector('#df-0d60fd91-2ad0-48fc-afd8-5004ce8074fe');\n",
              "        const dataTable =\n",
              "          await google.colab.kernel.invokeFunction('convertToInteractive',\n",
              "                                                    [key], {});\n",
              "        if (!dataTable) return;\n",
              "\n",
              "        const docLinkHtml = 'Like what you see? Visit the ' +\n",
              "          '<a target=\"_blank\" href=https://colab.research.google.com/notebooks/data_table.ipynb>data table notebook</a>'\n",
              "          + ' to learn more about interactive tables.';\n",
              "        element.innerHTML = '';\n",
              "        dataTable['output_type'] = 'display_data';\n",
              "        await google.colab.output.renderOutput(dataTable, element);\n",
              "        const docLink = document.createElement('div');\n",
              "        docLink.innerHTML = docLinkHtml;\n",
              "        element.appendChild(docLink);\n",
              "      }\n",
              "    </script>\n",
              "  </div>\n",
              "\n",
              "\n",
              "<div id=\"df-95b4fb38-67dd-4cd1-85af-819c91b42c4d\">\n",
              "  <button class=\"colab-df-quickchart\" onclick=\"quickchart('df-95b4fb38-67dd-4cd1-85af-819c91b42c4d')\"\n",
              "            title=\"Suggest charts\"\n",
              "            style=\"display:none;\">\n",
              "\n",
              "<svg xmlns=\"http://www.w3.org/2000/svg\" height=\"24px\"viewBox=\"0 0 24 24\"\n",
              "     width=\"24px\">\n",
              "    <g>\n",
              "        <path d=\"M19 3H5c-1.1 0-2 .9-2 2v14c0 1.1.9 2 2 2h14c1.1 0 2-.9 2-2V5c0-1.1-.9-2-2-2zM9 17H7v-7h2v7zm4 0h-2V7h2v10zm4 0h-2v-4h2v4z\"/>\n",
              "    </g>\n",
              "</svg>\n",
              "  </button>\n",
              "\n",
              "<style>\n",
              "  .colab-df-quickchart {\n",
              "      --bg-color: #E8F0FE;\n",
              "      --fill-color: #1967D2;\n",
              "      --hover-bg-color: #E2EBFA;\n",
              "      --hover-fill-color: #174EA6;\n",
              "      --disabled-fill-color: #AAA;\n",
              "      --disabled-bg-color: #DDD;\n",
              "  }\n",
              "\n",
              "  [theme=dark] .colab-df-quickchart {\n",
              "      --bg-color: #3B4455;\n",
              "      --fill-color: #D2E3FC;\n",
              "      --hover-bg-color: #434B5C;\n",
              "      --hover-fill-color: #FFFFFF;\n",
              "      --disabled-bg-color: #3B4455;\n",
              "      --disabled-fill-color: #666;\n",
              "  }\n",
              "\n",
              "  .colab-df-quickchart {\n",
              "    background-color: var(--bg-color);\n",
              "    border: none;\n",
              "    border-radius: 50%;\n",
              "    cursor: pointer;\n",
              "    display: none;\n",
              "    fill: var(--fill-color);\n",
              "    height: 32px;\n",
              "    padding: 0;\n",
              "    width: 32px;\n",
              "  }\n",
              "\n",
              "  .colab-df-quickchart:hover {\n",
              "    background-color: var(--hover-bg-color);\n",
              "    box-shadow: 0 1px 2px rgba(60, 64, 67, 0.3), 0 1px 3px 1px rgba(60, 64, 67, 0.15);\n",
              "    fill: var(--button-hover-fill-color);\n",
              "  }\n",
              "\n",
              "  .colab-df-quickchart-complete:disabled,\n",
              "  .colab-df-quickchart-complete:disabled:hover {\n",
              "    background-color: var(--disabled-bg-color);\n",
              "    fill: var(--disabled-fill-color);\n",
              "    box-shadow: none;\n",
              "  }\n",
              "\n",
              "  .colab-df-spinner {\n",
              "    border: 2px solid var(--fill-color);\n",
              "    border-color: transparent;\n",
              "    border-bottom-color: var(--fill-color);\n",
              "    animation:\n",
              "      spin 1s steps(1) infinite;\n",
              "  }\n",
              "\n",
              "  @keyframes spin {\n",
              "    0% {\n",
              "      border-color: transparent;\n",
              "      border-bottom-color: var(--fill-color);\n",
              "      border-left-color: var(--fill-color);\n",
              "    }\n",
              "    20% {\n",
              "      border-color: transparent;\n",
              "      border-left-color: var(--fill-color);\n",
              "      border-top-color: var(--fill-color);\n",
              "    }\n",
              "    30% {\n",
              "      border-color: transparent;\n",
              "      border-left-color: var(--fill-color);\n",
              "      border-top-color: var(--fill-color);\n",
              "      border-right-color: var(--fill-color);\n",
              "    }\n",
              "    40% {\n",
              "      border-color: transparent;\n",
              "      border-right-color: var(--fill-color);\n",
              "      border-top-color: var(--fill-color);\n",
              "    }\n",
              "    60% {\n",
              "      border-color: transparent;\n",
              "      border-right-color: var(--fill-color);\n",
              "    }\n",
              "    80% {\n",
              "      border-color: transparent;\n",
              "      border-right-color: var(--fill-color);\n",
              "      border-bottom-color: var(--fill-color);\n",
              "    }\n",
              "    90% {\n",
              "      border-color: transparent;\n",
              "      border-bottom-color: var(--fill-color);\n",
              "    }\n",
              "  }\n",
              "</style>\n",
              "\n",
              "  <script>\n",
              "    async function quickchart(key) {\n",
              "      const quickchartButtonEl =\n",
              "        document.querySelector('#' + key + ' button');\n",
              "      quickchartButtonEl.disabled = true;  // To prevent multiple clicks.\n",
              "      quickchartButtonEl.classList.add('colab-df-spinner');\n",
              "      try {\n",
              "        const charts = await google.colab.kernel.invokeFunction(\n",
              "            'suggestCharts', [key], {});\n",
              "      } catch (error) {\n",
              "        console.error('Error during call to suggestCharts:', error);\n",
              "      }\n",
              "      quickchartButtonEl.classList.remove('colab-df-spinner');\n",
              "      quickchartButtonEl.classList.add('colab-df-quickchart-complete');\n",
              "    }\n",
              "    (() => {\n",
              "      let quickchartButtonEl =\n",
              "        document.querySelector('#df-95b4fb38-67dd-4cd1-85af-819c91b42c4d button');\n",
              "      quickchartButtonEl.style.display =\n",
              "        google.colab.kernel.accessAllowed ? 'block' : 'none';\n",
              "    })();\n",
              "  </script>\n",
              "</div>\n",
              "\n",
              "    </div>\n",
              "  </div>\n"
            ],
            "application/vnd.google.colaboratory.intrinsic+json": {
              "type": "dataframe",
              "variable_name": "cdf",
              "summary": "{\n  \"name\": \"cdf\",\n  \"rows\": 23,\n  \"fields\": [\n    {\n      \"column\": \"Depth\",\n      \"properties\": {\n        \"dtype\": \"number\",\n        \"std\": 4,\n        \"min\": 30,\n        \"max\": 46,\n        \"num_unique_values\": 13,\n        \"samples\": [\n          44,\n          35,\n          33\n        ],\n        \"semantic_type\": \"\",\n        \"description\": \"\"\n      }\n    },\n    {\n      \"column\": \"Length\",\n      \"properties\": {\n        \"dtype\": \"number\",\n        \"std\": 19,\n        \"min\": 18,\n        \"max\": 86,\n        \"num_unique_values\": 18,\n        \"samples\": [\n          29,\n          40,\n          53\n        ],\n        \"semantic_type\": \"\",\n        \"description\": \"\"\n      }\n    },\n    {\n      \"column\": \"Width\",\n      \"properties\": {\n        \"dtype\": \"number\",\n        \"std\": 478,\n        \"min\": 30,\n        \"max\": 2349,\n        \"num_unique_values\": 22,\n        \"samples\": [\n          196,\n          135,\n          50\n        ],\n        \"semantic_type\": \"\",\n        \"description\": \"\"\n      }\n    },\n    {\n      \"column\": \"Orientation\",\n      \"properties\": {\n        \"dtype\": \"object\",\n        \"num_unique_values\": 21,\n        \"samples\": [\n          \"5:36\",\n          \"5:18\",\n          \"9:34\"\n        ],\n        \"semantic_type\": \"\",\n        \"description\": \"\"\n      }\n    },\n    {\n      \"column\": \"FeaturDescription\",\n      \"properties\": {\n        \"dtype\": \"category\",\n        \"num_unique_values\": 3,\n        \"samples\": [\n          \"Metal Loss Corrosion Circumferential Grooving\",\n          \"Metal Loss Corrosion General\",\n          \"Metal Loss Corrosion Pitting\"\n        ],\n        \"semantic_type\": \"\",\n        \"description\": \"\"\n      }\n    }\n  ]\n}"
            }
          },
          "metadata": {},
          "execution_count": 111
        }
      ]
    },
    {
      "cell_type": "code",
      "source": [
        "plt.scatter(cdf.Depth, cdf.FeaturDescription )\n",
        "plt.scatter(cdf.Length, cdf.FeaturDescription, color='red')\n",
        "plt.xlabel('Depth (m)')\n",
        "plt.show()"
      ],
      "metadata": {
        "colab": {
          "base_uri": "https://localhost:8080/",
          "height": 449
        },
        "id": "23xvhYHgH0lg",
        "outputId": "e226f028-2c3c-4366-804c-6331f220b077"
      },
      "execution_count": 112,
      "outputs": [
        {
          "output_type": "display_data",
          "data": {
            "text/plain": [
              "<Figure size 640x480 with 1 Axes>"
            ],
            "image/png": "[encoded data removed]"
          },
          "metadata": {}
        }
      ]
    },
    {
      "cell_type": "markdown",
      "source": [
        "Pre-processing the Data\n",
        "\n",
        "Removing the column containing the target name since it doesn't contain numeric values."
      ],
      "metadata": {
        "id": "dkjRdViizPFA"
      }
    },
    {
      "cell_type": "code",
      "source": [
        "X = cdf.values\n",
        "X"
      ],
      "metadata": {
        "colab": {
          "base_uri": "https://localhost:8080/"
        },
        "id": "o67u2xNIzWBu",
        "outputId": "52438240-e79f-4aa6-870d-33dc3ecbb2ff"
      },
      "execution_count": 113,
      "outputs": [
        {
          "output_type": "execute_result",
          "data": {
            "text/plain": [
              "array([[33, 29, 196, '5:36',\n",
              "        'Metal Loss Corrosion Circumferential Grooving'],\n",
              "       [46, 40, 90, '4:32', 'Metal Loss Corrosion General'],\n",
              "       [40, 40, 140, '7:30', 'Metal Loss Corrosion General'],\n",
              "       [30, 37, 512, '5:02',\n",
              "        'Metal Loss Corrosion Circumferential Grooving'],\n",
              "       [32, 28, 65, '3:40',\n",
              "        'Metal Loss Corrosion Circumferential Grooving'],\n",
              "       [30, 27, 65, '8:10',\n",
              "        'Metal Loss Corrosion Circumferential Grooving'],\n",
              "       [34, 20, 60, '5:32',\n",
              "        'Metal Loss Corrosion Circumferential Grooving'],\n",
              "       [31, 36, 251, '6:38',\n",
              "        'Metal Loss Corrosion Circumferential Grooving'],\n",
              "       [32, 35, 320, '4:54',\n",
              "        'Metal Loss Corrosion Circumferential Grooving'],\n",
              "       [37, 27, 50, '7:54', 'Metal Loss Corrosion Pitting'],\n",
              "       [30, 53, 306, '7:20', 'Metal Loss Corrosion General'],\n",
              "       [38, 86, 633, '3:36', 'Metal Loss Corrosion General'],\n",
              "       [38, 77, 442, '5:56', 'Metal Loss Corrosion General'],\n",
              "       [35, 32, 211, '4:40',\n",
              "        'Metal Loss Corrosion Circumferential Grooving'],\n",
              "       [30, 36, 135, '5:16',\n",
              "        'Metal Loss Corrosion Circumferential Grooving'],\n",
              "       [30, 83, 2349, '3:40', 'Metal Loss Corrosion General'],\n",
              "       [35, 36, 246, '9:34',\n",
              "        'Metal Loss Corrosion Circumferential Grooving'],\n",
              "       [32, 62, 226, '1:04', 'Metal Loss Corrosion General'],\n",
              "       [43, 42, 70, '5:18', 'Metal Loss Corrosion General'],\n",
              "       [44, 22, 40, '4:44', 'Metal Loss Corrosion Pitting'],\n",
              "       [36, 18, 85, '6:50',\n",
              "        'Metal Loss Corrosion Circumferential Grooving'],\n",
              "       [32, 36, 55, '8:10', 'Metal Loss Corrosion Pitting'],\n",
              "       [34, 33, 30, '4:56', 'Metal Loss Corrosion Pitting']], dtype=object)"
            ]
          },
          "metadata": {},
          "execution_count": 113
        }
      ]
    },
    {
      "cell_type": "code",
      "source": [
        "import sklearn\n",
        "from sklearn.preprocessing import LabelEncoder\n",
        "le_FD = LabelEncoder()\n",
        "le_FD.fit(cdf[['FeaturDescription']])\n",
        "#le_FD.fit(['Metal Loss Corrosion Circumferential Grooving' , 'Metal Loss Corrosion General', 'Metal Loss Corrosion Pitting'])\n",
        "X[:,4] = le_FD.transform(X[:,4])\n",
        "#cdf[['FeaturDescription']] = le_FD.transform(cdf[['FeaturDescription']])"
      ],
      "metadata": {
        "colab": {
          "base_uri": "https://localhost:8080/"
        },
        "id": "TGvt8fW31gbY",
        "outputId": "3d97b27a-21ec-48e9-c1b1-bbb631573e38"
      },
      "execution_count": 114,
      "outputs": [
        {
          "output_type": "stream",
          "name": "stderr",
          "text": [
            "/usr/local/lib/python3.11/dist-packages/sklearn/preprocessing/_label.py:93: DataConversionWarning: A column-vector y was passed when a 1d array was expected. Please change the shape of y to (n_samples, ), for example using ravel().\n",
            "  y = column_or_1d(y, warn=True)\n"
          ]
        }
      ]
    },
    {
      "cell_type": "code",
      "source": [
        "# The target value\n",
        "Y = X[:,4]\n",
        "Y[0:5]"
      ],
      "metadata": {
        "colab": {
          "base_uri": "https://localhost:8080/"
        },
        "id": "7VJAXxrw7Ezh",
        "outputId": "38cd2cfb-ced7-409f-ea4d-1f90da1f5e2d"
      },
      "execution_count": 122,
      "outputs": [
        {
          "output_type": "execute_result",
          "data": {
            "text/plain": [
              "array([0, 1, 1, 0, 0], dtype=object)"
            ]
          },
          "metadata": {},
          "execution_count": 122
        }
      ]
    },
    {
      "cell_type": "markdown",
      "source": [
        "Train and Test Data"
      ],
      "metadata": {
        "id": "X1IpClXSKVpx"
      }
    },
    {
      "cell_type": "code",
      "source": [
        "msk = np.random.rand(len(X))<0.8\n",
        "train = cdf [msk]\n",
        "test = cdf [~msk]"
      ],
      "metadata": {
        "id": "CdMqSxOjI_O8"
      },
      "execution_count": 126,
      "outputs": []
    },
    {
      "cell_type": "code",
      "source": [
        "plt.scatter(train.Depth, train.FeaturDescription, color = 'blue')\n",
        "plt.scatter(test.Depth, test.FeaturDescription, color = 'red', marker = \"*\")\n",
        "plt.xlabel('Depth (m)')\n",
        "plt.show()"
      ],
      "metadata": {
        "colab": {
          "base_uri": "https://localhost:8080/",
          "height": 449
        },
        "id": "_cEnItnNKZks",
        "outputId": "f8f50e69-b1d1-42d2-8ed9-ff3c242124a6"
      },
      "execution_count": 127,
      "outputs": [
        {
          "output_type": "display_data",
          "data": {
            "text/plain": [
              "<Figure size 640x480 with 1 Axes>"
            ],
            "image/png": "[encoded data removed]"
          },
          "metadata": {}
        }
      ]
    },
    {
      "cell_type": "code",
      "source": [
        "from sklearn.preprocessing  import PolynomialFeatures\n",
        "from sklearn import linear_model\n",
        "\n",
        "train_x = np.asanyarray(train[['Depth']])\n",
        "train_y = np.asanyarray(train[['FeaturDescription']])\n",
        "\n",
        "test_x = np.asanyarray(test[['Depth']])\n",
        "test_y = np.asanyarray([['FeaturDescription']])"
      ],
      "metadata": {
        "id": "bznv6D4FKv5t"
      },
      "execution_count": 128,
      "outputs": []
    },
    {
      "cell_type": "code",
      "source": [
        "poly = PolynomialFeatures(degree=2)\n",
        "train_x_poly = poly.fit_transform(train_x)\n",
        "train_x_poly"
      ],
      "metadata": {
        "colab": {
          "base_uri": "https://localhost:8080/"
        },
        "id": "OpR5rra5YKqM",
        "outputId": "5718a4e6-c90d-4343-a8e5-00ff4a85e98b"
      },
      "execution_count": 119,
      "outputs": [
        {
          "output_type": "execute_result",
          "data": {
            "text/plain": [
              "array([[1.000e+00, 3.300e+01, 1.089e+03],\n",
              "       [1.000e+00, 4.600e+01, 2.116e+03],\n",
              "       [1.000e+00, 4.000e+01, 1.600e+03],\n",
              "       [1.000e+00, 3.000e+01, 9.000e+02],\n",
              "       [1.000e+00, 3.200e+01, 1.024e+03],\n",
              "       [1.000e+00, 3.000e+01, 9.000e+02],\n",
              "       [1.000e+00, 3.400e+01, 1.156e+03],\n",
              "       [1.000e+00, 3.200e+01, 1.024e+03],\n",
              "       [1.000e+00, 3.700e+01, 1.369e+03],\n",
              "       [1.000e+00, 3.000e+01, 9.000e+02],\n",
              "       [1.000e+00, 3.800e+01, 1.444e+03],\n",
              "       [1.000e+00, 3.500e+01, 1.225e+03],\n",
              "       [1.000e+00, 3.000e+01, 9.000e+02],\n",
              "       [1.000e+00, 3.000e+01, 9.000e+02],\n",
              "       [1.000e+00, 3.500e+01, 1.225e+03],\n",
              "       [1.000e+00, 3.200e+01, 1.024e+03],\n",
              "       [1.000e+00, 4.300e+01, 1.849e+03],\n",
              "       [1.000e+00, 4.400e+01, 1.936e+03],\n",
              "       [1.000e+00, 3.400e+01, 1.156e+03]])"
            ]
          },
          "metadata": {},
          "execution_count": 119
        }
      ]
    },
    {
      "cell_type": "markdown",
      "source": [
        "Pre-processing the Data\n",
        "Removing the column containing the target name since it doesn't contain numeric values.\n",
        "\n"
      ],
      "metadata": {
        "id": "CeAIxtedxEvK"
      }
    },
    {
      "cell_type": "code",
      "source": [
        "X ="
      ],
      "metadata": {
        "colab": {
          "base_uri": "https://localhost:8080/",
          "height": 106
        },
        "id": "QPq6IDoly7Lc",
        "outputId": "619896cf-e67c-43ae-e665-e36788fbe373"
      },
      "execution_count": 120,
      "outputs": [
        {
          "output_type": "error",
          "ename": "SyntaxError",
          "evalue": "invalid syntax (<ipython-input-120-0938eb09f843>, line 1)",
          "traceback": [
            "\u001b[0;36m  File \u001b[0;32m\"<ipython-input-120-0938eb09f843>\"\u001b[0;36m, line \u001b[0;32m1\u001b[0m\n\u001b[0;31m    X =\u001b[0m\n\u001b[0m        ^\u001b[0m\n\u001b[0;31mSyntaxError\u001b[0m\u001b[0;31m:\u001b[0m invalid syntax\n"
          ]
        }
      ]
    },
    {
      "cell_type": "code",
      "source": [
        "from sklrean import preprocessing\n"
      ],
      "metadata": {
        "id": "RsxCfdf5xD5C"
      },
      "execution_count": null,
      "outputs": []
    },
    {
      "cell_type": "code",
      "source": [
        "clf = linear_model.LinearRegression()\n",
        "train_y_ = clf.fit(train_x_poly, train_y)\n",
        "# The coefficients\n",
        "print ('Coefficients: ', clf.coef_)\n",
        "print ('Intercept: ',clf.intercept_)"
      ],
      "metadata": {
        "id": "61U69DwYav-T"
      },
      "execution_count": null,
      "outputs": []
    },
    {
      "cell_type": "code",
      "source": [],
      "metadata": {
        "id": "CcIMKypaa-W_"
      },
      "execution_count": null,
      "outputs": []
    }
  ]
}