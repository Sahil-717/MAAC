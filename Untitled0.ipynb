{
  "nbformat": 4,
  "nbformat_minor": 0,
  "metadata": {
    "colab": {
      "provenance": [],
      "authorship_tag": "ABX9TyN7fJmanJhp1LHU1Lzp+MQo",
      "include_colab_link": true
    },
    "kernelspec": {
      "name": "python3",
      "display_name": "Python 3"
    },
    "language_info": {
      "name": "python"
    }
  },
  "cells": [
    {
      "cell_type": "markdown",
      "metadata": {
        "id": "view-in-github",
        "colab_type": "text"
      },
      "source": [
        "<a href=\"https://colab.research.google.com/github/Sahil-717/MAAC/blob/master/Untitled0.ipynb\" target=\"_parent\"><img src=\"https://colab.research.google.com/assets/colab-badge.svg\" alt=\"Open In Colab\"/></a>"
      ]
    },
    {
      "cell_type": "code",
      "execution_count": null,
      "metadata": {
        "id": "tQh_4OPPrygV"
      },
      "outputs": [],
      "source": [
        "import cvxpy as cp\n",
        "import matplotlib.pyplot as plt\n",
        "import numpy as np\n",
        "import torch"
      ]
    },
    {
      "cell_type": "code",
      "source": [
        "from google.colab import drive\n",
        "drive.mount('/content/drive')"
      ],
      "metadata": {
        "id": "qNh4u14vflbu"
      },
      "execution_count": null,
      "outputs": []
    },
    {
      "cell_type": "code",
      "source": [
        "pip install cvxpylayers"
      ],
      "metadata": {
        "id": "OVzJL1k6-TwF",
        "outputId": "739087d5-6489-4cbd-fe8a-b7cddf20fd5f",
        "colab": {
          "base_uri": "https://localhost:8080/"
        }
      },
      "execution_count": null,
      "outputs": [
        {
          "output_type": "stream",
          "name": "stdout",
          "text": [
            "Collecting cvxpylayers\n",
            "  Downloading cvxpylayers-0.1.6-py3-none-any.whl (31 kB)\n",
            "Requirement already satisfied: numpy>=1.15 in /usr/local/lib/python3.10/dist-packages (from cvxpylayers) (1.25.2)\n",
            "Requirement already satisfied: scipy>=1.1.0 in /usr/local/lib/python3.10/dist-packages (from cvxpylayers) (1.11.4)\n",
            "Collecting diffcp>=1.0.13 (from cvxpylayers)\n",
            "  Downloading diffcp-1.0.23-cp310-cp310-manylinux_2_17_x86_64.manylinux2014_x86_64.whl (5.2 MB)\n",
            "\u001b[2K     \u001b[90m━━━━━━━━━━━━━━━━━━━━━━━━━━━━━━━━━━━━━━━━\u001b[0m \u001b[32m5.2/5.2 MB\u001b[0m \u001b[31m49.5 MB/s\u001b[0m eta \u001b[36m0:00:00\u001b[0m\n",
            "\u001b[?25hRequirement already satisfied: cvxpy>=1.1.0a4 in /usr/local/lib/python3.10/dist-packages (from cvxpylayers) (1.3.3)\n",
            "Requirement already satisfied: osqp>=0.4.1 in /usr/local/lib/python3.10/dist-packages (from cvxpy>=1.1.0a4->cvxpylayers) (0.6.2.post8)\n",
            "Requirement already satisfied: ecos>=2 in /usr/local/lib/python3.10/dist-packages (from cvxpy>=1.1.0a4->cvxpylayers) (2.0.13)\n",
            "Requirement already satisfied: scs>=1.1.6 in /usr/local/lib/python3.10/dist-packages (from cvxpy>=1.1.0a4->cvxpylayers) (3.2.4.post1)\n",
            "Requirement already satisfied: setuptools>65.5.1 in /usr/local/lib/python3.10/dist-packages (from cvxpy>=1.1.0a4->cvxpylayers) (67.7.2)\n",
            "Collecting pybind11>=2.4 (from diffcp>=1.0.13->cvxpylayers)\n",
            "  Downloading pybind11-2.12.0-py3-none-any.whl (234 kB)\n",
            "\u001b[2K     \u001b[90m━━━━━━━━━━━━━━━━━━━━━━━━━━━━━━━━━━━━━━━━\u001b[0m \u001b[32m235.0/235.0 kB\u001b[0m \u001b[31m29.7 MB/s\u001b[0m eta \u001b[36m0:00:00\u001b[0m\n",
            "\u001b[?25hRequirement already satisfied: threadpoolctl>=1.1 in /usr/local/lib/python3.10/dist-packages (from diffcp>=1.0.13->cvxpylayers) (3.4.0)\n",
            "Requirement already satisfied: qdldl in /usr/local/lib/python3.10/dist-packages (from osqp>=0.4.1->cvxpy>=1.1.0a4->cvxpylayers) (0.1.7.post0)\n",
            "Installing collected packages: pybind11, diffcp, cvxpylayers\n",
            "Successfully installed cvxpylayers-0.1.6 diffcp-1.0.23 pybind11-2.12.0\n"
          ]
        }
      ]
    },
    {
      "cell_type": "code",
      "source": [
        "pip install diffcp"
      ],
      "metadata": {
        "id": "3rX059hwRgIv"
      },
      "execution_count": null,
      "outputs": []
    },
    {
      "cell_type": "code",
      "source": [
        "import cvxpylayers.torch"
      ],
      "metadata": {
        "id": "m5OLOtOv9YEf"
      },
      "execution_count": null,
      "outputs": []
    },
    {
      "cell_type": "code",
      "source": [
        "from cvxpylayers.torch import CvxpyLayer"
      ],
      "metadata": {
        "id": "0iguVRf66anw"
      },
      "execution_count": null,
      "outputs": []
    },
    {
      "cell_type": "code",
      "source": [
        "import diffcp"
      ],
      "metadata": {
        "id": "REOzNVgsu9P0"
      },
      "execution_count": null,
      "outputs": []
    },
    {
      "cell_type": "code",
      "source": [
        "torch.set_default_dtype(torch.double)\n",
        "np.set_printoptions(precision=3, suppress=True)"
      ],
      "metadata": {
        "id": "ZZIYB0ME6cLD"
      },
      "execution_count": null,
      "outputs": []
    },
    {
      "cell_type": "code",
      "source": [
        "!pip install diffcp"
      ],
      "metadata": {
        "id": "tKvr7ZhgSBR4",
        "colab": {
          "base_uri": "https://localhost:8080/"
        },
        "outputId": "a106e741-10c4-4295-c586-21add9af589b"
      },
      "execution_count": null,
      "outputs": [
        {
          "output_type": "stream",
          "name": "stdout",
          "text": [
            "Requirement already satisfied: diffcp in /usr/local/lib/python3.10/dist-packages (1.0.23)\n",
            "Requirement already satisfied: numpy>=1.15 in /usr/local/lib/python3.10/dist-packages (from diffcp) (1.25.2)\n",
            "Requirement already satisfied: scs>=2.0.2 in /usr/local/lib/python3.10/dist-packages (from diffcp) (3.2.4.post1)\n",
            "Requirement already satisfied: scipy>=1.1.0 in /usr/local/lib/python3.10/dist-packages (from diffcp) (1.11.4)\n",
            "Requirement already satisfied: pybind11>=2.4 in /usr/local/lib/python3.10/dist-packages (from diffcp) (2.12.0)\n",
            "Requirement already satisfied: threadpoolctl>=1.1 in /usr/local/lib/python3.10/dist-packages (from diffcp) (3.4.0)\n",
            "Requirement already satisfied: ecos>=2.0.10 in /usr/local/lib/python3.10/dist-packages (from diffcp) (2.0.13)\n"
          ]
        }
      ]
    },
    {
      "cell_type": "code",
      "source": [
        "torch.set_default_dtype(torch.double)\n",
        "np.set_printoptions(precision=3, suppress=True)"
      ],
      "metadata": {
        "id": "-b7lgtMh-_dv"
      },
      "execution_count": null,
      "outputs": []
    },
    {
      "cell_type": "code",
      "source": [
        "import diffcp"
      ],
      "metadata": {
        "id": "NDbLnu0rCMoe"
      },
      "execution_count": null,
      "outputs": []
    },
    {
      "cell_type": "code",
      "source": [
        "n = 7\n",
        "\n",
        "# Define variables & parameters\n",
        "x = cp.Variable()\n",
        "y = cp.Parameter(n)\n",
        "\n",
        "# Define objective and constraints\n",
        "objective = cp.sum_squares(y - x)\n",
        "constraints = []\n",
        "\n",
        "# Synthesize problem\n",
        "prob = cp.Problem(cp.Minimize(objective), constraints)\n",
        "\n",
        "# Set parameter values\n",
        "y.value = np.random.randn(n)\n",
        "\n",
        "# Solve problem in one line\n",
        "prob.solve(requires_grad=True)\n",
        "print(\"solution:\", \"%.3f\" % x.value)\n",
        "print(\"analytical solution:\", \"%.3f\" % np.mean(y.value))"
      ],
      "metadata": {
        "id": "YEi06Tx9_5JG"
      },
      "execution_count": null,
      "outputs": []
    },
    {
      "cell_type": "code",
      "source": [
        "# Set gradient wrt x\n",
        "x.gradient = np.array([1.])\n",
        "\n",
        "# Differentiate in one line\n",
        "prob.backward()\n",
        "print(\"gradient:\", y.gradient)\n",
        "print(\"analytical gradient:\", np.ones(y.size) / n)"
      ],
      "metadata": {
        "id": "NSSVjL3rxDVV"
      },
      "execution_count": null,
      "outputs": []
    },
    {
      "cell_type": "code",
      "source": [
        "import torch\n",
        "A=torch.tensor(2., requires_grad = True)\n",
        "print(\"Tensor-A:\" , A)\n",
        "B=torch.tensor(5., requires_grad=False)\n",
        "print(\"Tensor-B:\" , B)"
      ],
      "metadata": {
        "colab": {
          "base_uri": "https://localhost:8080/"
        },
        "id": "EDJxpU0pRdp8",
        "outputId": "2ff92c3b-4c24-476c-bafe-72decf5faa58"
      },
      "execution_count": null,
      "outputs": [
        {
          "output_type": "stream",
          "name": "stdout",
          "text": [
            "Tensor-A: tensor(2., requires_grad=True)\n",
            "Tensor-B: tensor(5.)\n"
          ]
        }
      ]
    },
    {
      "cell_type": "code",
      "source": [
        "x = A*B\n",
        "print(\"x:\" , x)"
      ],
      "metadata": {
        "colab": {
          "base_uri": "https://localhost:8080/"
        },
        "id": "RTob30a7RwQu",
        "outputId": "6a0407e9-bcba-443f-dd42-301d0d5fc9f9"
      },
      "execution_count": null,
      "outputs": [
        {
          "output_type": "stream",
          "name": "stdout",
          "text": [
            "x: tensor(10., grad_fn=<MulBackward0>)\n"
          ]
        }
      ]
    },
    {
      "cell_type": "code",
      "source": [
        "x.backward()\n",
        "print(\"A.grad:\" , A.grad)\n",
        "print(\"B.grad:\" , B.grad)"
      ],
      "metadata": {
        "colab": {
          "base_uri": "https://localhost:8080/"
        },
        "id": "xu5pcKwVSAgs",
        "outputId": "f4f16c30-b02f-43e7-d48c-a76bf7b12991"
      },
      "execution_count": null,
      "outputs": [
        {
          "output_type": "stream",
          "name": "stdout",
          "text": [
            "A.grad: tensor(5.)\n",
            "B.grad: None\n"
          ]
        }
      ]
    },
    {
      "cell_type": "code",
      "source": [
        "A = np.random.randn(3,4)\n",
        "print(A)"
      ],
      "metadata": {
        "id": "2q0IbWB9SGay",
        "colab": {
          "base_uri": "https://localhost:8080/"
        },
        "outputId": "075631cc-98ce-4c7f-cfd9-a15abddadd44"
      },
      "execution_count": null,
      "outputs": [
        {
          "output_type": "stream",
          "name": "stdout",
          "text": [
            "[[-0.23055061  0.53675951  1.15656508 -0.82098756]\n",
            " [ 0.24661832  0.89290731  0.22570854 -0.45974674]\n",
            " [ 1.35332832 -0.5801845   0.28088515 -0.93690652]]\n"
          ]
        }
      ]
    },
    {
      "cell_type": "code",
      "source": [],
      "metadata": {
        "id": "1ejONr6e3YjW"
      },
      "execution_count": null,
      "outputs": []
    }
  ]
}